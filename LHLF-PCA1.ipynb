{
 "cells": [
  {
   "cell_type": "code",
   "execution_count": null,
   "id": "223473cd-267c-4c3d-8015-110a53903212",
   "metadata": {},
   "outputs": [],
   "source": [
    "import os\n",
    "import numpy as np\n",
    "from skimage.transform import resize\n",
    "from sklearn.model_selection import train_test_split\n",
    "from sklearn.decomposition import PCA\n",
    "from sklearn.svm import SVC\n",
    "from sklearn.metrics import confusion_matrix, accuracy_score, classification_report\n",
    "import matplotlib.pyplot as plt\n",
    "from tensorflow.keras.preprocessing import image\n",
    "from tensorflow.keras.applications.inception_resnet_v2 import InceptionResNetV2, preprocess_input\n",
    "from skimage.feature import hog\n",
    "from skimage import exposure\n",
    "from tensorflow.keras.models import Model\n",
    "def extract_features_from_directory(directory, deep_target_size=(299, 299), hog_pixels_per_cell=(8, 8)):\n",
    "    deep_features = []\n",
    "    hog_features = []\n",
    "    labels = [] \n",
    "    class_labels = sorted(os.listdir(directory))  \n",
    "    model = InceptionResNetV2(weights='imagenet')\n",
    "    base_model = Model(inputs=model.input, outputs=model.get_layer('predictions').output)\n",
    "    for i, class_label in enumerate(class_labels):\n",
    "        class_path = os.path.join(directory, class_label)       \n",
    "        for filename in os.listdir(class_path):\n",
    "            img_path = os.path.join(class_path, filename)\n",
    "            img_deep = image.load_img(img_path, target_size=deep_target_size)\n",
    "            img_array_deep = image.img_to_array(img_deep)\n",
    "            img_array_deep = np.expand_dims(img_array_deep, axis=0)\n",
    "            img_array_deep = preprocess_input(img_array_deep)\n",
    "            img_hog = image.load_img(img_path)\n",
    "            img_array_hog = image.img_to_array(img_hog)\n",
    "            img_array_hog = resize(img_array_hog, (img_array_hog.shape[0] // hog_pixels_per_cell[0] * hog_pixels_per_cell[0],\n",
    "                                                   img_array_hog.shape[1] // hog_pixels_per_cell[1] * hog_pixels_per_cell[1]))\n",
    "            deep_features.append(base_model.predict(img_array_deep).flatten())\n",
    "            gray_img = np.dot(img_array_hog, [0.2989, 0.5870, 0.1140])\n",
    "            hog_feature_vector, _ = hog(gray_img, orientations=9, pixels_per_cell=hog_pixels_per_cell, \n",
    "                                        cells_per_block=(2, 2), visualize=True)\n",
    "            hog_features.append(hog_feature_vector)       \n",
    "            labels.append(i)  \n",
    "    return np.array(deep_features), np.array(hog_features), np.array(labels)\n",
    "dataset_directory = 'path_to_dataset'  # Update this with your dataset path\n",
    "deep_features, hog_features, labels = extract_features_from_directory(dataset_directory)\n",
    "pca1 = PCA(n_components=500)  \n",
    "deep_features_pca1 = pca1.fit_transform(deep_features)\n",
    "sorted_indices_deep = np.argsort(pca1.explained_variance_, axis=0)[::-1]\n",
    "pca2 = PCA(n_components=500)  \n",
    "hog_features_pca2 = pca2.fit_transform(hog_features)\n",
    "sorted_indices_hog = np.argsort(pca2.explained_variance_, axis=0)[::-1]"
   ]
  },
  {
   "cell_type": "code",
   "execution_count": null,
   "id": "2626447d-c7b7-4ea7-af8b-f56214d624e2",
   "metadata": {},
   "outputs": [],
   "source": [
    "deep_features_pca_sorted=deep_features_pca1[:, sorted_indices_deep]\n",
    "hog_features_pca_sorted=hog_features_pca2[:, sorted_indices_hog]\n",
    "top_components = 200\n",
    "deep_features_top = deep_features_pca_sorted[:, :top_components]\n",
    "hog_features_top = hog_features_pca_sorted[:, :top_components]\n",
    "all_features = np.concatenate((deep_features_top, hog_features_top), axis=1)"
   ]
  },
  {
   "cell_type": "code",
   "execution_count": null,
   "id": "3613a004-3598-4e2f-832f-694a36689f94",
   "metadata": {},
   "outputs": [],
   "source": [
    "X_train, X_test, y_train, y_test = train_test_split(all_features,labels,test_size=0.2, random_state=42, stratify=labels)\n",
    "svm_model = SVC(kernel='rbf', C=2, gamma='scale')\n",
    "svm_model.fit(X_train, y_train)\n",
    "y_pred = svm_model.predict(X_test)\n",
    "conf_matrix = confusion_matrix(y_test, y_pred)\n",
    "accuracy = accuracy_score(y_test, y_pred)\n",
    "classification_rep = classification_report(y_test, y_pred)\n",
    "print(\"Confusion Matrix:\\n\", conf_matrix)\n",
    "print(\"\\nAccuracy:\", accuracy)\n",
    "print(\"\\nClassification Report:\\n\", classification_rep)"
   ]
  }
 ],
 "metadata": {
  "kernelspec": {
   "display_name": "Python 3 (ipykernel)",
   "language": "python",
   "name": "python3"
  },
  "language_info": {
   "codemirror_mode": {
    "name": "ipython",
    "version": 3
   },
   "file_extension": ".py",
   "mimetype": "text/x-python",
   "name": "python",
   "nbconvert_exporter": "python",
   "pygments_lexer": "ipython3",
   "version": "3.9.18"
  }
 },
 "nbformat": 4,
 "nbformat_minor": 5
}
